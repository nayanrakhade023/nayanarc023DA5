{
 "cells": [
  {
   "cell_type": "markdown",
   "id": "c54d4a4a-2a48-4ccf-88b0-b7809e62e4e3",
   "metadata": {},
   "source": [
    "# SETS"
   ]
  },
  {
   "cell_type": "markdown",
   "id": "84a419ae-ab35-44eb-8b80-7a7bb5fe85db",
   "metadata": {},
   "source": [
    "### Sets are used to store multiple elements in a single variable , in which element can be unordered and unchangeable"
   ]
  },
  {
   "cell_type": "code",
   "execution_count": 2,
   "id": "8998ac10-f893-4ac7-a49f-0f17c5fa8b1a",
   "metadata": {},
   "outputs": [],
   "source": [
    "empty_set = set()"
   ]
  },
  {
   "cell_type": "code",
   "execution_count": 4,
   "id": "c4749e4f-92f7-4ac8-838b-aecdd9545955",
   "metadata": {},
   "outputs": [
    {
     "data": {
      "text/plain": [
       "set()"
      ]
     },
     "execution_count": 4,
     "metadata": {},
     "output_type": "execute_result"
    }
   ],
   "source": [
    "empty_set"
   ]
  },
  {
   "cell_type": "code",
   "execution_count": 5,
   "id": "87438578-f1c8-4db1-a1b4-19a747b8f6e9",
   "metadata": {},
   "outputs": [
    {
     "data": {
      "text/plain": [
       "set"
      ]
     },
     "execution_count": 5,
     "metadata": {},
     "output_type": "execute_result"
    }
   ],
   "source": [
    "type(empty_set)"
   ]
  },
  {
   "cell_type": "code",
   "execution_count": 7,
   "id": "d5016422-41a1-485c-a9f5-6bce4fd0aa49",
   "metadata": {},
   "outputs": [],
   "source": [
    "non_empty_set = {2,8,6,'ram'}"
   ]
  },
  {
   "cell_type": "code",
   "execution_count": 10,
   "id": "a34c2d18-62d8-4002-9f57-f926deed767f",
   "metadata": {},
   "outputs": [
    {
     "name": "stdout",
     "output_type": "stream",
     "text": [
      "{8, 2, 'ram', 6}\n"
     ]
    }
   ],
   "source": [
    "print(non_empty_set)"
   ]
  },
  {
   "cell_type": "code",
   "execution_count": 11,
   "id": "c3b0ade9-82c8-4c28-be98-c15c963b1d81",
   "metadata": {},
   "outputs": [
    {
     "data": {
      "text/plain": [
       "set"
      ]
     },
     "execution_count": 11,
     "metadata": {},
     "output_type": "execute_result"
    }
   ],
   "source": [
    "type(non_empty_set)\n",
    "      "
   ]
  },
  {
   "cell_type": "code",
   "execution_count": null,
   "id": "60ee120a-9c18-4119-afd3-d3348b7e62eb",
   "metadata": {},
   "outputs": [],
   "source": []
  },
  {
   "cell_type": "markdown",
   "id": "5213afb5-df06-4d88-a6fd-780006518c2a",
   "metadata": {},
   "source": [
    "# FUNCTION OF SETS\n",
    "* ADD"
   ]
  },
  {
   "cell_type": "markdown",
   "id": "867dd5e6-a70a-4127-ab83-1d6aa3b3b674",
   "metadata": {},
   "source": [
    "### ADD function takes the element to be added as an argument"
   ]
  },
  {
   "cell_type": "code",
   "execution_count": 15,
   "id": "124313f9-cf5e-4ada-97d3-ef52fb353f7a",
   "metadata": {},
   "outputs": [],
   "source": [
    "my_set = set()\n",
    "my_set.add('ramesh')"
   ]
  },
  {
   "cell_type": "code",
   "execution_count": 16,
   "id": "bc63524b-ff50-4e6d-b312-5831496f1523",
   "metadata": {},
   "outputs": [
    {
     "data": {
      "text/plain": [
       "{'ramesh'}"
      ]
     },
     "execution_count": 16,
     "metadata": {},
     "output_type": "execute_result"
    }
   ],
   "source": [
    "my_set"
   ]
  },
  {
   "cell_type": "code",
   "execution_count": 18,
   "id": "d9bb254d-6a35-4b15-8c27-4301c8b19f9e",
   "metadata": {},
   "outputs": [],
   "source": [
    "my_set.add(25)"
   ]
  },
  {
   "cell_type": "code",
   "execution_count": 19,
   "id": "17602ff8-342a-4907-af50-c331ee7f34a9",
   "metadata": {},
   "outputs": [
    {
     "data": {
      "text/plain": [
       "{25, 'ramesh'}"
      ]
     },
     "execution_count": 19,
     "metadata": {},
     "output_type": "execute_result"
    }
   ],
   "source": [
    "my_set"
   ]
  },
  {
   "cell_type": "code",
   "execution_count": null,
   "id": "fe810e88-a2f9-48ed-975b-b3aa105df11a",
   "metadata": {},
   "outputs": [],
   "source": []
  },
  {
   "cell_type": "markdown",
   "id": "a00c400a-0cc6-4e5c-b518-2de2750f0805",
   "metadata": {},
   "source": [
    "# UPDATE\n",
    "### THIS METHOD HELP ADD MULTIPE ELEMENTS TO THE SET"
   ]
  },
  {
   "cell_type": "code",
   "execution_count": 29,
   "id": "f8003b76-45bd-44df-9cd9-48d7b93b2be3",
   "metadata": {},
   "outputs": [],
   "source": [
    "my_set = {'ramesh','mahesh','suresh'}"
   ]
  },
  {
   "cell_type": "code",
   "execution_count": 30,
   "id": "4b36e888-17fc-4774-89a3-c423cd0ca082",
   "metadata": {},
   "outputs": [],
   "source": [
    "my_set.update(['kamlesh'])"
   ]
  },
  {
   "cell_type": "code",
   "execution_count": 32,
   "id": "ff9be86f-61a2-420c-949f-9bcbe11cf762",
   "metadata": {},
   "outputs": [
    {
     "name": "stdout",
     "output_type": "stream",
     "text": [
      "{'suresh', 'mahesh', 'ramesh', 'kamlesh'}\n"
     ]
    }
   ],
   "source": [
    "print(my_set)"
   ]
  },
  {
   "cell_type": "code",
   "execution_count": null,
   "id": "af76c600-dabf-4e14-9c43-3a477e3ebde2",
   "metadata": {},
   "outputs": [],
   "source": []
  },
  {
   "cell_type": "markdown",
   "id": "588cfea5-f46d-469e-a9d3-9c23bb8d36cf",
   "metadata": {},
   "source": [
    "# UNION\n",
    "## UNION FUNCTION RETURNS THE UNION OF TWO SETS"
   ]
  },
  {
   "cell_type": "code",
   "execution_count": 33,
   "id": "9a05811f-e9bc-4c7b-ab75-69b70fcce61a",
   "metadata": {},
   "outputs": [],
   "source": [
    "S1 = {1,2,3,7,8}\n",
    "S2 = {5,4,6,7,9}"
   ]
  },
  {
   "cell_type": "code",
   "execution_count": 34,
   "id": "c0dcd91a-6b03-41f4-9c6a-1859d7f7e0f0",
   "metadata": {},
   "outputs": [
    {
     "data": {
      "text/plain": [
       "{1, 2, 3, 4, 5, 6, 7, 8, 9}"
      ]
     },
     "execution_count": 34,
     "metadata": {},
     "output_type": "execute_result"
    }
   ],
   "source": [
    "S1.union(S2)"
   ]
  },
  {
   "cell_type": "code",
   "execution_count": null,
   "id": "deebc760-4b5f-4f3b-aba7-f6860af367bb",
   "metadata": {},
   "outputs": [],
   "source": []
  },
  {
   "cell_type": "markdown",
   "id": "12eaab9b-d152-4aa8-92f0-789bcf5203b7",
   "metadata": {},
   "source": [
    "# INTERSECTION\n",
    "## INTERSECTION THE COMMON VALUE OF TWO SETS\n"
   ]
  },
  {
   "cell_type": "code",
   "execution_count": 37,
   "id": "a9cc6977-6569-4a38-83fe-207a1925332b",
   "metadata": {},
   "outputs": [],
   "source": [
    "S1 = {1,2,3,7,8}\n",
    "S2 = {5,4,6,7,9}"
   ]
  },
  {
   "cell_type": "code",
   "execution_count": 36,
   "id": "58caad19-8530-49f4-b305-8c959bd1932b",
   "metadata": {},
   "outputs": [
    {
     "data": {
      "text/plain": [
       "{7}"
      ]
     },
     "execution_count": 36,
     "metadata": {},
     "output_type": "execute_result"
    }
   ],
   "source": [
    "S1.intersection(S2)"
   ]
  },
  {
   "cell_type": "code",
   "execution_count": null,
   "id": "bbe74df0-002e-4d66-aa9e-bdb049ce3968",
   "metadata": {},
   "outputs": [],
   "source": []
  },
  {
   "cell_type": "markdown",
   "id": "2e13c17a-f0aa-4103-b6f2-194afd67d30a",
   "metadata": {},
   "source": [
    "# REMOVE\n",
    "## REMOVE FUNCTION IS USE TO REMOVE A SPECIFIC ELEMENT FROM THE SET"
   ]
  },
  {
   "cell_type": "code",
   "execution_count": 38,
   "id": "0c83f487-8d55-4f28-b0f5-50407b4eae38",
   "metadata": {},
   "outputs": [],
   "source": [
    "A1 = {2,3,4,5,6,11}"
   ]
  },
  {
   "cell_type": "code",
   "execution_count": 39,
   "id": "7b5c793e-3854-461f-9a52-cafed48d4298",
   "metadata": {},
   "outputs": [
    {
     "data": {
      "text/plain": [
       "{2, 3, 4, 5, 6, 11}"
      ]
     },
     "execution_count": 39,
     "metadata": {},
     "output_type": "execute_result"
    }
   ],
   "source": [
    "A1"
   ]
  },
  {
   "cell_type": "code",
   "execution_count": 40,
   "id": "4e5e7d42-d0dd-4991-b18a-fd3414bb9146",
   "metadata": {},
   "outputs": [],
   "source": [
    "A1.remove(6)"
   ]
  },
  {
   "cell_type": "code",
   "execution_count": 41,
   "id": "cda13c2f-f45b-4a98-80d6-cbc0051009db",
   "metadata": {},
   "outputs": [
    {
     "data": {
      "text/plain": [
       "{2, 3, 4, 5, 11}"
      ]
     },
     "execution_count": 41,
     "metadata": {},
     "output_type": "execute_result"
    }
   ],
   "source": [
    "A1"
   ]
  },
  {
   "cell_type": "code",
   "execution_count": null,
   "id": "f43d0e7a-8bc3-467b-956e-7c113dc17ca7",
   "metadata": {},
   "outputs": [],
   "source": []
  },
  {
   "cell_type": "markdown",
   "id": "07aa9ae8-f2ee-4010-bdcf-a611ce053050",
   "metadata": {},
   "source": [
    "# Difference\n",
    "## difference function return the element that differnt in another set"
   ]
  },
  {
   "cell_type": "code",
   "execution_count": 44,
   "id": "4484ca6c-7278-46f4-8d79-5cf07cfcb92b",
   "metadata": {},
   "outputs": [],
   "source": [
    "b1 = {1,2,3,4,5,6}\n",
    "b2 = {4,5,6,7,8}"
   ]
  },
  {
   "cell_type": "code",
   "execution_count": 45,
   "id": "68c5769b-d06c-418b-8cb5-8de6bab6b096",
   "metadata": {},
   "outputs": [
    {
     "data": {
      "text/plain": [
       "{1, 2, 3}"
      ]
     },
     "execution_count": 45,
     "metadata": {},
     "output_type": "execute_result"
    }
   ],
   "source": [
    "b1.difference(b2)"
   ]
  },
  {
   "cell_type": "code",
   "execution_count": 46,
   "id": "8fbb083f-3f57-4345-9fdc-fe53c16e206a",
   "metadata": {},
   "outputs": [
    {
     "data": {
      "text/plain": [
       "{7, 8}"
      ]
     },
     "execution_count": 46,
     "metadata": {},
     "output_type": "execute_result"
    }
   ],
   "source": [
    "b2.difference(b1)"
   ]
  },
  {
   "cell_type": "code",
   "execution_count": null,
   "id": "0a840d6b-31db-4b6c-842a-a9eb075003ce",
   "metadata": {},
   "outputs": [],
   "source": []
  },
  {
   "cell_type": "markdown",
   "id": "03482167-6d3a-4b9e-bdc0-dc233eb4a313",
   "metadata": {},
   "source": [
    "# Clear\n",
    "## clear function removes all the elemnts form the set"
   ]
  },
  {
   "cell_type": "code",
   "execution_count": 47,
   "id": "e115141e-05d5-447a-a706-f68500911eb8",
   "metadata": {},
   "outputs": [],
   "source": [
    "t1 = {20,18,16,17,19}"
   ]
  },
  {
   "cell_type": "code",
   "execution_count": 48,
   "id": "723d38f3-1dd8-4b30-ac55-7fddb3bd3710",
   "metadata": {},
   "outputs": [
    {
     "data": {
      "text/plain": [
       "{16, 17, 18, 19, 20}"
      ]
     },
     "execution_count": 48,
     "metadata": {},
     "output_type": "execute_result"
    }
   ],
   "source": [
    "t1"
   ]
  },
  {
   "cell_type": "code",
   "execution_count": 49,
   "id": "5d8b1c56-8d6a-48b7-9968-f73a9287da23",
   "metadata": {},
   "outputs": [],
   "source": [
    "t1.clear()"
   ]
  },
  {
   "cell_type": "code",
   "execution_count": 50,
   "id": "0277ef5a-0342-4d7f-ac9c-53d8d255f3b4",
   "metadata": {},
   "outputs": [
    {
     "data": {
      "text/plain": [
       "set()"
      ]
     },
     "execution_count": 50,
     "metadata": {},
     "output_type": "execute_result"
    }
   ],
   "source": [
    "t1"
   ]
  },
  {
   "cell_type": "code",
   "execution_count": null,
   "id": "01f2b30c-69cf-41fe-8039-aafb0ee8e0f4",
   "metadata": {},
   "outputs": [],
   "source": []
  },
  {
   "cell_type": "markdown",
   "id": "c59627b0-263e-4895-baf1-f06adc85abe5",
   "metadata": {},
   "source": [
    "# Discard\n",
    "## It Removes an element  from the set if it is a member. If the element is not a member, do nothing."
   ]
  },
  {
   "cell_type": "code",
   "execution_count": 51,
   "id": "0599ccc5-e1f2-4bbb-8cc0-3f66ede89aac",
   "metadata": {},
   "outputs": [],
   "source": [
    "p1 = {'suresh', 'mahesh', 'ramesh', 'kamlesh'}"
   ]
  },
  {
   "cell_type": "code",
   "execution_count": 52,
   "id": "dec17ff1-393c-4e66-9ba9-e152d1a219be",
   "metadata": {},
   "outputs": [
    {
     "data": {
      "text/plain": [
       "{'kamlesh', 'mahesh', 'ramesh', 'suresh'}"
      ]
     },
     "execution_count": 52,
     "metadata": {},
     "output_type": "execute_result"
    }
   ],
   "source": [
    "p1"
   ]
  },
  {
   "cell_type": "code",
   "execution_count": 54,
   "id": "bf3d2506-eb0f-4114-828f-c3ecc89dae5e",
   "metadata": {},
   "outputs": [],
   "source": [
    "p1.discard('mahesh')"
   ]
  },
  {
   "cell_type": "code",
   "execution_count": 55,
   "id": "7a23c72d-db7d-4d78-abca-5c875d227e73",
   "metadata": {},
   "outputs": [
    {
     "data": {
      "text/plain": [
       "{'kamlesh', 'ramesh', 'suresh'}"
      ]
     },
     "execution_count": 55,
     "metadata": {},
     "output_type": "execute_result"
    }
   ],
   "source": [
    "p1"
   ]
  },
  {
   "cell_type": "code",
   "execution_count": null,
   "id": "a5a7e7ae-6f14-4650-ae17-f28f598dbc50",
   "metadata": {},
   "outputs": [],
   "source": []
  }
 ],
 "metadata": {
  "kernelspec": {
   "display_name": "Python 3 (ipykernel)",
   "language": "python",
   "name": "python3"
  },
  "language_info": {
   "codemirror_mode": {
    "name": "ipython",
    "version": 3
   },
   "file_extension": ".py",
   "mimetype": "text/x-python",
   "name": "python",
   "nbconvert_exporter": "python",
   "pygments_lexer": "ipython3",
   "version": "3.11.7"
  }
 },
 "nbformat": 4,
 "nbformat_minor": 5
}
