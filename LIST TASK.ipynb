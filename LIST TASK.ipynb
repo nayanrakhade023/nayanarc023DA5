{
 "cells": [
  {
   "cell_type": "code",
   "execution_count": 1,
   "id": "bb450925-f0a1-49d3-8061-67986138ad15",
   "metadata": {},
   "outputs": [],
   "source": [
    "lfruit = ['apple','mango','pineapple','grapes']\n",
    "lveg = ['potato','tomato','chilly','cabage']"
   ]
  },
  {
   "cell_type": "code",
   "execution_count": 7,
   "id": "8ea6488a-fd3e-4db1-94e6-723f16a89304",
   "metadata": {},
   "outputs": [
    {
     "name": "stdout",
     "output_type": "stream",
     "text": [
      "['apple', 'mango', 'pineapple', 'grapes']\n"
     ]
    }
   ],
   "source": [
    "print(lfruit)"
   ]
  },
  {
   "cell_type": "markdown",
   "id": "43c97766-c532-42e2-b80c-c8c1975e126b",
   "metadata": {},
   "source": [
    "# append \n",
    "## the append function add the element at the end of the list"
   ]
  },
  {
   "cell_type": "code",
   "execution_count": 8,
   "id": "7e7c49d3-90b1-47db-bddc-bdc7aea5c96c",
   "metadata": {},
   "outputs": [],
   "source": [
    "lfruit.append('kiwi')"
   ]
  },
  {
   "cell_type": "code",
   "execution_count": 9,
   "id": "3409e930-1901-4782-81f0-948404334ba8",
   "metadata": {},
   "outputs": [
    {
     "name": "stdout",
     "output_type": "stream",
     "text": [
      "['apple', 'mango', 'pineapple', 'grapes', 'kiwi']\n"
     ]
    }
   ],
   "source": [
    "print(lfruit)"
   ]
  },
  {
   "cell_type": "markdown",
   "id": "e9480ee5-cb6b-46c6-b0ee-545893c3ce55",
   "metadata": {},
   "source": []
  },
  {
   "cell_type": "markdown",
   "id": "00684db1-56c4-4d92-9b91-020b9f4e1d9d",
   "metadata": {},
   "source": [
    "# count\n",
    "## count function give the number  of times  the element in the list is repeated"
   ]
  },
  {
   "cell_type": "code",
   "execution_count": 19,
   "id": "9708178b-d9ce-40c8-ad22-045debaab86a",
   "metadata": {},
   "outputs": [],
   "source": [
    "lveg = ['potato','tomato','chilly','cabage','chilly']"
   ]
  },
  {
   "cell_type": "code",
   "execution_count": 20,
   "id": "79aff76d-0996-471a-bbc5-5443d7e8449e",
   "metadata": {},
   "outputs": [
    {
     "name": "stdout",
     "output_type": "stream",
     "text": [
      "['potato', 'tomato', 'chilly', 'cabage', 'chilly']\n"
     ]
    }
   ],
   "source": [
    "print(lveg)"
   ]
  },
  {
   "cell_type": "code",
   "execution_count": 15,
   "id": "e7680263-42fd-467a-84db-1ae261bf0070",
   "metadata": {},
   "outputs": [
    {
     "data": {
      "text/plain": [
       "1"
      ]
     },
     "execution_count": 15,
     "metadata": {},
     "output_type": "execute_result"
    }
   ],
   "source": [
    "lveg.count('tomato')"
   ]
  },
  {
   "cell_type": "code",
   "execution_count": 21,
   "id": "1f3d606c-b600-409d-a769-7ba26db625cb",
   "metadata": {},
   "outputs": [
    {
     "data": {
      "text/plain": [
       "2"
      ]
     },
     "execution_count": 21,
     "metadata": {},
     "output_type": "execute_result"
    }
   ],
   "source": [
    "lveg.count('chilly')"
   ]
  },
  {
   "cell_type": "code",
   "execution_count": null,
   "id": "08499570-f7e5-4612-86b4-2eecf4a24866",
   "metadata": {},
   "outputs": [],
   "source": []
  },
  {
   "cell_type": "markdown",
   "id": "e974d39f-3249-4207-85a7-d5460e6fc129",
   "metadata": {},
   "source": [
    "# extend\n",
    "## extend function is used to add the iteam of the one list to the other"
   ]
  },
  {
   "cell_type": "code",
   "execution_count": 41,
   "id": "56fc3839-a196-48ae-b009-2c5706295d55",
   "metadata": {},
   "outputs": [],
   "source": [
    "cars = ['honda city','verna','swift','sonet']\n",
    "bikes = ['pulsar','bullet']"
   ]
  },
  {
   "cell_type": "code",
   "execution_count": 42,
   "id": "9829e1db-16a2-400e-8757-607e91d256ad",
   "metadata": {},
   "outputs": [
    {
     "data": {
      "text/plain": [
       "['pulsar', 'bullet']"
      ]
     },
     "execution_count": 42,
     "metadata": {},
     "output_type": "execute_result"
    }
   ],
   "source": [
    "bikes"
   ]
  },
  {
   "cell_type": "code",
   "execution_count": 43,
   "id": "c0953e24-3a55-40c0-b272-94c0e1dd6083",
   "metadata": {},
   "outputs": [],
   "source": [
    "cars.extend(bikes)"
   ]
  },
  {
   "cell_type": "code",
   "execution_count": 44,
   "id": "22721ab3-68ab-43f5-a82d-b106f9b171f9",
   "metadata": {},
   "outputs": [
    {
     "data": {
      "text/plain": [
       "['honda city', 'verna', 'swift', 'sonet', 'pulsar', 'bullet']"
      ]
     },
     "execution_count": 44,
     "metadata": {},
     "output_type": "execute_result"
    }
   ],
   "source": [
    "cars"
   ]
  },
  {
   "cell_type": "code",
   "execution_count": null,
   "id": "c0bec184-2dfc-4c4f-b424-8ec91430f40d",
   "metadata": {},
   "outputs": [],
   "source": []
  },
  {
   "cell_type": "markdown",
   "id": "99bfc094-fa6e-4dcb-b24c-21811bca0ef6",
   "metadata": {},
   "source": [
    "# remove func\n",
    "## remove function removes the element which is not needed "
   ]
  },
  {
   "cell_type": "code",
   "execution_count": 45,
   "id": "3927c048-a024-4943-b19f-168db28ecefa",
   "metadata": {},
   "outputs": [],
   "source": [
    "fruit = ['apple','mango','pineapple','grapes']"
   ]
  },
  {
   "cell_type": "code",
   "execution_count": 46,
   "id": "d86934e4-9228-455b-ac75-6c8e277331fd",
   "metadata": {},
   "outputs": [],
   "source": [
    "fruit.remove('pineapple')"
   ]
  },
  {
   "cell_type": "code",
   "execution_count": 47,
   "id": "24c29a87-1090-45f2-841b-bd6178e07f87",
   "metadata": {},
   "outputs": [
    {
     "data": {
      "text/plain": [
       "['apple', 'mango', 'grapes']"
      ]
     },
     "execution_count": 47,
     "metadata": {},
     "output_type": "execute_result"
    }
   ],
   "source": [
    "fruit"
   ]
  },
  {
   "cell_type": "markdown",
   "id": "cbb3ebb0-0e7f-4944-8411-9e537ef909c8",
   "metadata": {},
   "source": [
    "### here we can see that  pineapple we wanted to remove has been removed"
   ]
  },
  {
   "cell_type": "code",
   "execution_count": null,
   "id": "6c738611-9440-41cb-9d68-7f6d0a27445f",
   "metadata": {},
   "outputs": [],
   "source": []
  },
  {
   "cell_type": "markdown",
   "id": "a31325ac-f4a5-4631-8f4f-330267ffe267",
   "metadata": {},
   "source": [
    "# INSERT\n",
    "## insert function is uesd to insert or add the element in the list at the specific index"
   ]
  },
  {
   "cell_type": "code",
   "execution_count": 51,
   "id": "4c09b972-3bed-40bb-aa70-f245fa9f3be2",
   "metadata": {},
   "outputs": [],
   "source": [
    "studentName = ['rohan','nishant','rahul','komal']"
   ]
  },
  {
   "cell_type": "code",
   "execution_count": 52,
   "id": "e549475f-0a38-45bf-bcce-f8a0278ec97f",
   "metadata": {},
   "outputs": [
    {
     "data": {
      "text/plain": [
       "['rohan', 'nishant', 'rahul', 'komal']"
      ]
     },
     "execution_count": 52,
     "metadata": {},
     "output_type": "execute_result"
    }
   ],
   "source": [
    "studentName"
   ]
  },
  {
   "cell_type": "code",
   "execution_count": 53,
   "id": "5a38b213-bedb-4f01-a82f-971d2348c361",
   "metadata": {},
   "outputs": [],
   "source": [
    "studentName.insert(1,'hitesh')"
   ]
  },
  {
   "cell_type": "code",
   "execution_count": 54,
   "id": "3f5b1671-a2ef-4ea5-bc92-193200130fe3",
   "metadata": {},
   "outputs": [
    {
     "data": {
      "text/plain": [
       "['rohan', 'hitesh', 'nishant', 'rahul', 'komal']"
      ]
     },
     "execution_count": 54,
     "metadata": {},
     "output_type": "execute_result"
    }
   ],
   "source": [
    "studentName"
   ]
  },
  {
   "cell_type": "code",
   "execution_count": null,
   "id": "e697f4d9-0ce1-4e08-bbda-08be717f5acf",
   "metadata": {},
   "outputs": [],
   "source": []
  },
  {
   "cell_type": "markdown",
   "id": "4111c7c4-890c-45cc-8a46-348fd7fb4855",
   "metadata": {},
   "source": [
    "# POP FUNC\n",
    "## POP function gives only  the element that is asked using  index from the list"
   ]
  },
  {
   "cell_type": "code",
   "execution_count": 65,
   "id": "34bdda04-f3c5-45f8-a773-9965224e94d7",
   "metadata": {},
   "outputs": [],
   "source": [
    "studentName = ['rohan','nishant','rahul','komal']"
   ]
  },
  {
   "cell_type": "code",
   "execution_count": 66,
   "id": "e7890d99-e973-40cd-b055-6525122ecef7",
   "metadata": {},
   "outputs": [
    {
     "data": {
      "text/plain": [
       "['rohan', 'nishant', 'rahul', 'komal']"
      ]
     },
     "execution_count": 66,
     "metadata": {},
     "output_type": "execute_result"
    }
   ],
   "source": [
    "studentName"
   ]
  },
  {
   "cell_type": "code",
   "execution_count": 64,
   "id": "057afa9c-2a78-424d-ab52-11680e347488",
   "metadata": {},
   "outputs": [
    {
     "data": {
      "text/plain": [
       "'rohan'"
      ]
     },
     "execution_count": 64,
     "metadata": {},
     "output_type": "execute_result"
    }
   ],
   "source": [
    "studentName.pop(0)"
   ]
  },
  {
   "cell_type": "code",
   "execution_count": null,
   "id": "d7494b61-e030-4411-ad8d-1069060d72e5",
   "metadata": {},
   "outputs": [],
   "source": []
  },
  {
   "cell_type": "markdown",
   "id": "08f10e56-1691-4485-aa46-64968f689ff6",
   "metadata": {},
   "source": [
    "## CLEAR FUNC.\n",
    "## clear function is used to remove all the element in the list"
   ]
  },
  {
   "cell_type": "code",
   "execution_count": 68,
   "id": "f915d461-6e05-4144-a9dd-660c010835b1",
   "metadata": {},
   "outputs": [],
   "source": [
    "f1 = [ 1,5,6,9,7,3,5]"
   ]
  },
  {
   "cell_type": "code",
   "execution_count": 69,
   "id": "c26e1b6e-95c1-4a38-92d3-96b97ce71d20",
   "metadata": {},
   "outputs": [
    {
     "data": {
      "text/plain": [
       "[1, 5, 6, 9, 7, 3, 5]"
      ]
     },
     "execution_count": 69,
     "metadata": {},
     "output_type": "execute_result"
    }
   ],
   "source": [
    "f1"
   ]
  },
  {
   "cell_type": "code",
   "execution_count": 70,
   "id": "e5791c96-3fbb-4f64-9811-8d6d2fa35d97",
   "metadata": {},
   "outputs": [],
   "source": [
    "f1.clear()"
   ]
  },
  {
   "cell_type": "code",
   "execution_count": 71,
   "id": "49f41068-2cbd-4b67-90ec-7e7934b3bcdb",
   "metadata": {},
   "outputs": [
    {
     "data": {
      "text/plain": [
       "[]"
      ]
     },
     "execution_count": 71,
     "metadata": {},
     "output_type": "execute_result"
    }
   ],
   "source": [
    "f1"
   ]
  },
  {
   "cell_type": "code",
   "execution_count": null,
   "id": "557f1522-800e-476a-8af0-094098cb5062",
   "metadata": {},
   "outputs": [],
   "source": []
  },
  {
   "cell_type": "markdown",
   "id": "14157ed7-0d4d-44ec-bfbb-11af7fb7acee",
   "metadata": {},
   "source": [
    "# MIN FUNC\n",
    "## min function gives the smallest element in the list"
   ]
  },
  {
   "cell_type": "code",
   "execution_count": 72,
   "id": "c28055be-8c0a-413a-b175-c8d5e80d0df9",
   "metadata": {},
   "outputs": [],
   "source": [
    "A1 = [29,35,12,45,102,10,14]"
   ]
  },
  {
   "cell_type": "code",
   "execution_count": 74,
   "id": "1514513c-9f39-4d09-b725-2546de5b6579",
   "metadata": {},
   "outputs": [
    {
     "data": {
      "text/plain": [
       "[29, 35, 12, 45, 102, 10, 14]"
      ]
     },
     "execution_count": 74,
     "metadata": {},
     "output_type": "execute_result"
    }
   ],
   "source": [
    "A1"
   ]
  },
  {
   "cell_type": "code",
   "execution_count": 77,
   "id": "a2cbf3f6-bb65-4690-9ab6-fec15efa23aa",
   "metadata": {},
   "outputs": [],
   "source": [
    "small = min(A1)"
   ]
  },
  {
   "cell_type": "code",
   "execution_count": 78,
   "id": "e97b7390-b148-4525-a7d7-98efdf427115",
   "metadata": {},
   "outputs": [
    {
     "data": {
      "text/plain": [
       "10"
      ]
     },
     "execution_count": 78,
     "metadata": {},
     "output_type": "execute_result"
    }
   ],
   "source": [
    "small"
   ]
  },
  {
   "cell_type": "code",
   "execution_count": null,
   "id": "33a26db7-f896-4a7b-981e-96be980abf76",
   "metadata": {},
   "outputs": [],
   "source": []
  },
  {
   "cell_type": "markdown",
   "id": "a19e51bf-c710-4e5e-9b70-0bf01f777c00",
   "metadata": {},
   "source": [
    "# MAX FUNC\n",
    "## max function give the largest element in the list"
   ]
  },
  {
   "cell_type": "code",
   "execution_count": 79,
   "id": "86ae79eb-3012-4bf8-8d87-29debb165a77",
   "metadata": {},
   "outputs": [],
   "source": [
    "A1 = [29,35,12,45,102,10,14]"
   ]
  },
  {
   "cell_type": "code",
   "execution_count": 80,
   "id": "efb39a94-eeb1-4b16-bd68-863fe49847bc",
   "metadata": {},
   "outputs": [
    {
     "data": {
      "text/plain": [
       "[29, 35, 12, 45, 102, 10, 14]"
      ]
     },
     "execution_count": 80,
     "metadata": {},
     "output_type": "execute_result"
    }
   ],
   "source": [
    "A1"
   ]
  },
  {
   "cell_type": "code",
   "execution_count": 81,
   "id": "062b0ff3-8960-4f4f-a763-0015726d2549",
   "metadata": {},
   "outputs": [],
   "source": [
    "large = max(A1)"
   ]
  },
  {
   "cell_type": "code",
   "execution_count": 82,
   "id": "97a7ae28-2f3b-47d4-a198-ac1279d128ad",
   "metadata": {},
   "outputs": [
    {
     "data": {
      "text/plain": [
       "102"
      ]
     },
     "execution_count": 82,
     "metadata": {},
     "output_type": "execute_result"
    }
   ],
   "source": [
    "large"
   ]
  },
  {
   "cell_type": "code",
   "execution_count": null,
   "id": "9358adad-6687-43ca-921a-b44ea43e2134",
   "metadata": {},
   "outputs": [],
   "source": []
  },
  {
   "cell_type": "markdown",
   "id": "e9ca3323-720f-4cc5-92a1-1cb20e50a695",
   "metadata": {},
   "source": [
    "# SORT FUNC\n",
    "## sort function sorts the elements list in acesending and decesending order"
   ]
  },
  {
   "cell_type": "code",
   "execution_count": 83,
   "id": "07f84f63-467d-4a59-bb3a-cfe9c80f74d5",
   "metadata": {},
   "outputs": [],
   "source": [
    "z1 = [21,23,56,78,12,14,16]"
   ]
  },
  {
   "cell_type": "code",
   "execution_count": 84,
   "id": "13479ef5-c8f2-4796-9cab-40a60a16fad4",
   "metadata": {},
   "outputs": [
    {
     "data": {
      "text/plain": [
       "[21, 23, 56, 78, 12, 14, 16]"
      ]
     },
     "execution_count": 84,
     "metadata": {},
     "output_type": "execute_result"
    }
   ],
   "source": [
    "z1"
   ]
  },
  {
   "cell_type": "markdown",
   "id": "eebba4b0-885e-4705-8602-7ce2f0e75b7d",
   "metadata": {},
   "source": [
    "### acesending order"
   ]
  },
  {
   "cell_type": "code",
   "execution_count": 87,
   "id": "ab3e6162-2598-4e04-a8f0-ea955202b0bd",
   "metadata": {},
   "outputs": [],
   "source": [
    "z1.sort()"
   ]
  },
  {
   "cell_type": "code",
   "execution_count": 88,
   "id": "336af063-4465-4650-a50a-5ee5acea7aa3",
   "metadata": {},
   "outputs": [
    {
     "data": {
      "text/plain": [
       "[12, 14, 16, 21, 23, 56, 78]"
      ]
     },
     "execution_count": 88,
     "metadata": {},
     "output_type": "execute_result"
    }
   ],
   "source": [
    "z1"
   ]
  },
  {
   "cell_type": "markdown",
   "id": "d36407e2-eada-480b-a33b-152528f02816",
   "metadata": {},
   "source": [
    "### decesending order"
   ]
  },
  {
   "cell_type": "code",
   "execution_count": 89,
   "id": "753d75e8-be86-488f-a651-18cd974a5c41",
   "metadata": {},
   "outputs": [],
   "source": [
    "z1.sort(reverse=True)"
   ]
  },
  {
   "cell_type": "code",
   "execution_count": 90,
   "id": "5ee65429-3c92-4e9b-a706-b8a3127ec19d",
   "metadata": {},
   "outputs": [
    {
     "data": {
      "text/plain": [
       "[78, 56, 23, 21, 16, 14, 12]"
      ]
     },
     "execution_count": 90,
     "metadata": {},
     "output_type": "execute_result"
    }
   ],
   "source": [
    "z1"
   ]
  },
  {
   "cell_type": "code",
   "execution_count": null,
   "id": "78c90c58-4acd-4f00-8510-0c9c9a70a5ca",
   "metadata": {},
   "outputs": [],
   "source": []
  }
 ],
 "metadata": {
  "kernelspec": {
   "display_name": "Python 3 (ipykernel)",
   "language": "python",
   "name": "python3"
  },
  "language_info": {
   "codemirror_mode": {
    "name": "ipython",
    "version": 3
   },
   "file_extension": ".py",
   "mimetype": "text/x-python",
   "name": "python",
   "nbconvert_exporter": "python",
   "pygments_lexer": "ipython3",
   "version": "3.11.7"
  }
 },
 "nbformat": 4,
 "nbformat_minor": 5
}
