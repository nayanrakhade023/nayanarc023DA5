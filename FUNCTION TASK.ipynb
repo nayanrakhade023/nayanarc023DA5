{
 "cells": [
  {
   "cell_type": "code",
   "execution_count": 1,
   "id": "f1d2542b-c5ee-4897-b8d8-9138f48f36fb",
   "metadata": {},
   "outputs": [
    {
     "name": "stdout",
     "output_type": "stream",
     "text": [
      "This is a dictionary\n",
      "{'city1': 'mumbai', 'city2': 'bhopal', 'city3': 'nagpur'}\n"
     ]
    }
   ],
   "source": [
    "print('This is a dictionary')\n",
    "def dictName(val1,val2,val3):\n",
    "    join_Name = f'{val1}{val2}{val3}'\n",
    "    result = {\n",
    "        'city1':val1,\n",
    "        'city2':val2,\n",
    "        'city3':val3,\n",
    "    }\n",
    "    return result\n",
    "\n",
    "val1 = \"mumbai\"\n",
    "val2 = \"bhopal\"\n",
    "val3 = \"nagpur\"\n",
    "\n",
    "output = dictName(val1,val2,val3)\n",
    "\n",
    "print(output)\n"
   ]
  },
  {
   "cell_type": "code",
   "execution_count": 2,
   "id": "2d6627e7-04ac-4ad2-8113-489305f56ec3",
   "metadata": {},
   "outputs": [
    {
     "name": "stdout",
     "output_type": "stream",
     "text": [
      "{'mango': 'konkan', 'apple': 'jammu', 'banana': 'nashik'}\n"
     ]
    }
   ],
   "source": [
    "def my_function(f1,f2,f3):\n",
    "    joint_name = f'{f1}{f2}{f3}'\n",
    "    result = { \n",
    "        'mango':f1,\n",
    "        'apple':f2,\n",
    "        'banana':f3,\n",
    "\n",
    "    }\n",
    "    return result\n",
    "\n",
    "f1 = \"konkan\"\n",
    "f2 = \"jammu\"\n",
    "f3 = \"nashik\"\n",
    "\n",
    "output = my_function(f1,f2,f3)\n",
    "\n",
    "print(output)\n",
    "        \n",
    "    \n",
    "    "
   ]
  },
  {
   "cell_type": "code",
   "execution_count": null,
   "id": "e30ef7bc-5b15-4b75-ba2c-ba964c798e60",
   "metadata": {},
   "outputs": [],
   "source": []
  }
 ],
 "metadata": {
  "kernelspec": {
   "display_name": "Python 3 (ipykernel)",
   "language": "python",
   "name": "python3"
  },
  "language_info": {
   "codemirror_mode": {
    "name": "ipython",
    "version": 3
   },
   "file_extension": ".py",
   "mimetype": "text/x-python",
   "name": "python",
   "nbconvert_exporter": "python",
   "pygments_lexer": "ipython3",
   "version": "3.11.7"
  }
 },
 "nbformat": 4,
 "nbformat_minor": 5
}
