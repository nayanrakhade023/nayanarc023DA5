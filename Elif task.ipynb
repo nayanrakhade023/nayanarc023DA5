{
 "cells": [
  {
   "cell_type": "markdown",
   "id": "6d3ebd46-30b0-4a61-a704-9c7b908771a8",
   "metadata": {},
   "source": [
    "# join text"
   ]
  },
  {
   "cell_type": "code",
   "execution_count": 2,
   "id": "51619262-fc58-4dc5-ad08-a1371688d50e",
   "metadata": {},
   "outputs": [],
   "source": [
    "def join_text (*args,seperator=''):\n",
    "    return seperator.join(args)"
   ]
  },
  {
   "cell_type": "code",
   "execution_count": 3,
   "id": "66efa3a9-9e4e-414e-b669-3b48038c4727",
   "metadata": {},
   "outputs": [
    {
     "name": "stdout",
     "output_type": "stream",
     "text": [
      "salman khan\n"
     ]
    }
   ],
   "source": [
    "p1 = \"salman\"\n",
    "p2 = \"khan\"\n",
    "\n",
    "joined_text = join_text(p1,p2,seperator=' ')\n",
    "\n",
    "print(joined_text)"
   ]
  },
  {
   "cell_type": "code",
   "execution_count": null,
   "id": "292f9341-decf-42b7-b13e-ddd16e6872d1",
   "metadata": {},
   "outputs": [],
   "source": []
  },
  {
   "cell_type": "markdown",
   "id": "c11c62f1-d3fd-4ce5-b865-51dc8c4b02d7",
   "metadata": {},
   "source": [
    "# Trim text"
   ]
  },
  {
   "cell_type": "code",
   "execution_count": 5,
   "id": "868f4b75-ca67-40f0-96aa-13f25ff22a36",
   "metadata": {},
   "outputs": [],
   "source": [
    "def trim(text,side = 'both'):\n",
    "    if side == 'left':\n",
    "        return text.lstrip()\n",
    "    elif side == 'right':\n",
    "        return text.rstrip()\n",
    "    elif side == 'both':\n",
    "        return text.strip()\n",
    "        "
   ]
  },
  {
   "cell_type": "code",
   "execution_count": 8,
   "id": "98f26e40-f522-45af-9074-53a41815eadc",
   "metadata": {},
   "outputs": [
    {
     "name": "stdout",
     "output_type": "stream",
     "text": [
      "trimmed(both side): salman khan\n"
     ]
    }
   ],
   "source": [
    "text = \"          salman khan          \"\n",
    "\n",
    "trimmed_text_both = trim(text)\n",
    "print('trimmed(both side):',trimmed_text_both)"
   ]
  },
  {
   "cell_type": "code",
   "execution_count": null,
   "id": "f931b5d8-2838-4132-999c-323eb32d1484",
   "metadata": {},
   "outputs": [],
   "source": []
  },
  {
   "cell_type": "markdown",
   "id": "76e81e65-92ca-4c66-9c11-7d8a1bab2380",
   "metadata": {},
   "source": [
    "# substitute\n"
   ]
  },
  {
   "cell_type": "code",
   "execution_count": 10,
   "id": "82ff840b-b65b-45d7-9124-5bda36e7e49a",
   "metadata": {},
   "outputs": [
    {
     "name": "stdout",
     "output_type": "stream",
     "text": [
      "Ram is a good person\n",
      "Ram is a wonderful person\n"
     ]
    }
   ],
   "source": [
    "def substitute(text,old,new):\n",
    "    return text.replace(old,new)\n",
    "\n",
    "real_text = \"Ram is a good person\"\n",
    "old_text = \"good\"\n",
    "new_text = \"wonderful\"\n",
    "\n",
    "substituted_text = substitute(real_text,old_text,new_text)\n",
    "\n",
    "print(real_text)\n",
    "print(substituted_text)"
   ]
  },
  {
   "cell_type": "code",
   "execution_count": null,
   "id": "e68a96c2-07f1-4191-bed4-2d363c999530",
   "metadata": {},
   "outputs": [],
   "source": []
  },
  {
   "cell_type": "markdown",
   "id": "5e5655eb-4595-44be-bdd7-97daf69b9ec4",
   "metadata": {},
   "source": [
    "# cut text"
   ]
  },
  {
   "cell_type": "code",
   "execution_count": 12,
   "id": "1006e915-5ec5-4395-8b38-a31f2d09df3b",
   "metadata": {},
   "outputs": [],
   "source": [
    "def cut_text(text,start,end):\n",
    "    return text[start:end]"
   ]
  },
  {
   "cell_type": "code",
   "execution_count": 13,
   "id": "7da1b6c2-108d-4de6-9570-79b55fc8a391",
   "metadata": {},
   "outputs": [
    {
     "name": "stdout",
     "output_type": "stream",
     "text": [
      "Ram is a wonderful man\n",
      "wonderful \n"
     ]
    }
   ],
   "source": [
    "real_text = \"Ram is a wonderful man\"\n",
    "start_position = 9\n",
    "end_position = 19\n",
    "\n",
    "cut_portion = cut_text(real_text,start_position,end_position)\n",
    "\n",
    "print(real_text)\n",
    "print(cut_portion)"
   ]
  },
  {
   "cell_type": "code",
   "execution_count": null,
   "id": "086aceaa-ace8-420a-8b15-ac3eb8c3f36f",
   "metadata": {},
   "outputs": [],
   "source": []
  }
 ],
 "metadata": {
  "kernelspec": {
   "display_name": "Python 3 (ipykernel)",
   "language": "python",
   "name": "python3"
  },
  "language_info": {
   "codemirror_mode": {
    "name": "ipython",
    "version": 3
   },
   "file_extension": ".py",
   "mimetype": "text/x-python",
   "name": "python",
   "nbconvert_exporter": "python",
   "pygments_lexer": "ipython3",
   "version": "3.11.7"
  }
 },
 "nbformat": 4,
 "nbformat_minor": 5
}
