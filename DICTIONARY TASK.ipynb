{
 "cells": [
  {
   "cell_type": "markdown",
   "id": "577d1d71-6bb3-4231-8960-2aceab9c8b5c",
   "metadata": {},
   "source": [
    "# DICTIONARY \n",
    "## THE DICTIONARY IS THE METHOD WHERE MANY ELEMENTS ARE STORED IN FORM OF KEY"
   ]
  },
  {
   "cell_type": "code",
   "execution_count": 1,
   "id": "2b7c0cb3-11b7-459f-898b-46e6f71b539c",
   "metadata": {},
   "outputs": [],
   "source": [
    "D1 = {'apple':'fruit','potato':'vegetable'}"
   ]
  },
  {
   "cell_type": "code",
   "execution_count": 2,
   "id": "25ee4673-84ea-4482-a0ce-8a63174daf7b",
   "metadata": {},
   "outputs": [
    {
     "data": {
      "text/plain": [
       "{'apple': 'fruit', 'potato': 'vegetable'}"
      ]
     },
     "execution_count": 2,
     "metadata": {},
     "output_type": "execute_result"
    }
   ],
   "source": [
    "D1"
   ]
  },
  {
   "cell_type": "code",
   "execution_count": 3,
   "id": "614dac24-89fe-4e5e-b2ed-dd144ea2801d",
   "metadata": {},
   "outputs": [
    {
     "data": {
      "text/plain": [
       "dict"
      ]
     },
     "execution_count": 3,
     "metadata": {},
     "output_type": "execute_result"
    }
   ],
   "source": [
    "type(D1)"
   ]
  },
  {
   "cell_type": "code",
   "execution_count": null,
   "id": "f3a8ac51-cb56-4826-8ce7-156073eef8a1",
   "metadata": {},
   "outputs": [],
   "source": []
  },
  {
   "cell_type": "markdown",
   "id": "bb60a6e2-2fcd-4def-bf98-88205f460b64",
   "metadata": {},
   "source": [
    "# CLEAR ()\n",
    "## clear function removes all the element from dictionary"
   ]
  },
  {
   "cell_type": "code",
   "execution_count": 4,
   "id": "f65b0d2e-6494-4922-929e-68af8f8a3549",
   "metadata": {},
   "outputs": [],
   "source": [
    "arc = {'city':'nagpur','location':'nandanvan','course':'data analystic'}\n"
   ]
  },
  {
   "cell_type": "code",
   "execution_count": 5,
   "id": "87d22076-1188-457f-9467-4f63132aa3f6",
   "metadata": {},
   "outputs": [
    {
     "data": {
      "text/plain": [
       "{'city': 'nagpur', 'location': 'nandanvan', 'course': 'data analystic'}"
      ]
     },
     "execution_count": 5,
     "metadata": {},
     "output_type": "execute_result"
    }
   ],
   "source": [
    "arc"
   ]
  },
  {
   "cell_type": "code",
   "execution_count": 6,
   "id": "5193a328-714b-44a5-8b7c-5ebbe1c574d7",
   "metadata": {},
   "outputs": [],
   "source": [
    "arc.clear()"
   ]
  },
  {
   "cell_type": "code",
   "execution_count": 7,
   "id": "d217fcbc-41c0-4b06-9aeb-d427e52b2331",
   "metadata": {},
   "outputs": [
    {
     "data": {
      "text/plain": [
       "{}"
      ]
     },
     "execution_count": 7,
     "metadata": {},
     "output_type": "execute_result"
    }
   ],
   "source": [
    "arc"
   ]
  },
  {
   "cell_type": "code",
   "execution_count": null,
   "id": "13e40f51-70cb-49c2-88d1-d693ef0d02a2",
   "metadata": {},
   "outputs": [],
   "source": []
  },
  {
   "cell_type": "markdown",
   "id": "e92b6854-b4aa-4c16-a85e-92a2fe904db9",
   "metadata": {},
   "source": [
    "# key func\n",
    "## The keys function method is returns a view object that displays a list of all the keys."
   ]
  },
  {
   "cell_type": "code",
   "execution_count": 20,
   "id": "afef9d14-eda1-44af-a435-d46b767496aa",
   "metadata": {},
   "outputs": [],
   "source": [
    "t1 = {'domestic':'dog','wild':'lion','bird':'parrot','reptile':'snake'}"
   ]
  },
  {
   "cell_type": "code",
   "execution_count": 21,
   "id": "3eabfce3-a47e-4255-928f-ef6ffdae8b70",
   "metadata": {},
   "outputs": [
    {
     "data": {
      "text/plain": [
       "{'domestic': 'dog', 'wild': 'lion', 'bird': 'parrot', 'reptile': 'snake'}"
      ]
     },
     "execution_count": 21,
     "metadata": {},
     "output_type": "execute_result"
    }
   ],
   "source": [
    "t1 "
   ]
  },
  {
   "cell_type": "code",
   "execution_count": 22,
   "id": "e152a5af-3dc1-4b99-9eab-e0b3343a1a05",
   "metadata": {},
   "outputs": [],
   "source": [
    "t1 = t1.keys()"
   ]
  },
  {
   "cell_type": "code",
   "execution_count": 23,
   "id": "6141b457-3839-4f48-b050-2c0a061e0f35",
   "metadata": {},
   "outputs": [
    {
     "data": {
      "text/plain": [
       "dict_keys(['domestic', 'wild', 'bird', 'reptile'])"
      ]
     },
     "execution_count": 23,
     "metadata": {},
     "output_type": "execute_result"
    }
   ],
   "source": [
    "t1"
   ]
  },
  {
   "cell_type": "code",
   "execution_count": null,
   "id": "2464016d-740d-422d-95b8-54a97fdb9e5a",
   "metadata": {},
   "outputs": [],
   "source": []
  },
  {
   "cell_type": "markdown",
   "id": "94e40040-920d-4b20-9a0f-07a60ea88271",
   "metadata": {},
   "source": [
    "# FROMKEY FUNC\n",
    "## The fromkeys function returns the dictinary with key mapped and specific value.it creates a new dictionary from the given sequence with the specific value."
   ]
  },
  {
   "cell_type": "code",
   "execution_count": 26,
   "id": "3f0b8939-ce55-4e30-817d-e39ff2bba10d",
   "metadata": {},
   "outputs": [
    {
     "name": "stdout",
     "output_type": "stream",
     "text": [
      "{12: None, 85: None, 65: None, 45: None}\n"
     ]
    }
   ],
   "source": [
    "ab1 = (12,85,65,45)\n",
    "print(dict.fromkeys(ab1,None))"
   ]
  },
  {
   "cell_type": "code",
   "execution_count": null,
   "id": "9ba78827-f21c-48de-b3b8-0d32c5fa3222",
   "metadata": {},
   "outputs": [],
   "source": []
  },
  {
   "cell_type": "markdown",
   "id": "412623e2-ad20-4b31-927e-73add8e5893b",
   "metadata": {},
   "source": [
    "# GET FUNCTION\n",
    "## get function is used to get value from the dictionary"
   ]
  },
  {
   "cell_type": "code",
   "execution_count": 28,
   "id": "a2dcaf9a-641f-4a62-9e4f-2cf0a2827a46",
   "metadata": {},
   "outputs": [],
   "source": [
    "arc = {'city':'nagpur','location':'nandanvan','course':'data analystic'}"
   ]
  },
  {
   "cell_type": "code",
   "execution_count": 29,
   "id": "033a60ff-067a-44f5-9674-2d347228e5cb",
   "metadata": {},
   "outputs": [
    {
     "data": {
      "text/plain": [
       "{'city': 'nagpur', 'location': 'nandanvan', 'course': 'data analystic'}"
      ]
     },
     "execution_count": 29,
     "metadata": {},
     "output_type": "execute_result"
    }
   ],
   "source": [
    "arc"
   ]
  },
  {
   "cell_type": "code",
   "execution_count": 30,
   "id": "3aadbd4d-e86b-428b-bd23-045d0cbeb2e4",
   "metadata": {},
   "outputs": [
    {
     "data": {
      "text/plain": [
       "'data analystic'"
      ]
     },
     "execution_count": 30,
     "metadata": {},
     "output_type": "execute_result"
    }
   ],
   "source": [
    "arc.get('course')"
   ]
  },
  {
   "cell_type": "code",
   "execution_count": 31,
   "id": "ff2bd129-c546-4387-b41b-f917bdf61867",
   "metadata": {},
   "outputs": [
    {
     "data": {
      "text/plain": [
       "'nandanvan'"
      ]
     },
     "execution_count": 31,
     "metadata": {},
     "output_type": "execute_result"
    }
   ],
   "source": [
    "arc.get('location')"
   ]
  },
  {
   "cell_type": "code",
   "execution_count": null,
   "id": "4c70842f-c2c6-4784-bc4e-5dac2b2ca247",
   "metadata": {},
   "outputs": [],
   "source": []
  },
  {
   "cell_type": "markdown",
   "id": "c0221899-8837-47fc-9cfb-fdcfad121490",
   "metadata": {},
   "source": [
    "# POP FUNC\n",
    "## POP function give the info about specific key which is mentioned in code"
   ]
  },
  {
   "cell_type": "code",
   "execution_count": 32,
   "id": "5abbdcab-6bab-4d49-b041-9d444c51098a",
   "metadata": {},
   "outputs": [],
   "source": [
    "t1 = {'domestic':'dog','wild':'lion','bird':'parrot','reptile':'snake'}"
   ]
  },
  {
   "cell_type": "code",
   "execution_count": 33,
   "id": "cc8e7837-dd21-4cce-8232-a25291d47f94",
   "metadata": {},
   "outputs": [
    {
     "data": {
      "text/plain": [
       "{'domestic': 'dog', 'wild': 'lion', 'bird': 'parrot', 'reptile': 'snake'}"
      ]
     },
     "execution_count": 33,
     "metadata": {},
     "output_type": "execute_result"
    }
   ],
   "source": [
    "t1"
   ]
  },
  {
   "cell_type": "code",
   "execution_count": 34,
   "id": "19b14917-b027-4e84-830a-147b26e13f12",
   "metadata": {},
   "outputs": [
    {
     "data": {
      "text/plain": [
       "'dog'"
      ]
     },
     "execution_count": 34,
     "metadata": {},
     "output_type": "execute_result"
    }
   ],
   "source": [
    "t1.pop('domestic')"
   ]
  },
  {
   "cell_type": "code",
   "execution_count": 35,
   "id": "dc6fbb46-b049-4152-9a47-e2bbb73042e6",
   "metadata": {},
   "outputs": [
    {
     "data": {
      "text/plain": [
       "'parrot'"
      ]
     },
     "execution_count": 35,
     "metadata": {},
     "output_type": "execute_result"
    }
   ],
   "source": [
    "t1.pop('bird')"
   ]
  },
  {
   "cell_type": "code",
   "execution_count": null,
   "id": "9096f0b8-6c38-49e1-96b8-91a487dbf62a",
   "metadata": {},
   "outputs": [],
   "source": []
  },
  {
   "cell_type": "markdown",
   "id": "55699c11-03d7-42c9-9cd2-29829c70dce8",
   "metadata": {},
   "source": [
    "# SETDEFAULT FUNC.\n",
    "## setdefault function that either give the value in the key or it insert a key with the default value to the dictionary."
   ]
  },
  {
   "cell_type": "code",
   "execution_count": 36,
   "id": "c90351ec-09f0-4d7b-a33a-3106e54e38d4",
   "metadata": {},
   "outputs": [],
   "source": [
    "marks = {'mohit': 54,'samir':56,'mohan':60}"
   ]
  },
  {
   "cell_type": "code",
   "execution_count": 37,
   "id": "1977dd7e-d4ac-456b-9767-dfb43dc972c9",
   "metadata": {},
   "outputs": [
    {
     "data": {
      "text/plain": [
       "{'mohit': 54, 'samir': 56, 'mohan': 60}"
      ]
     },
     "execution_count": 37,
     "metadata": {},
     "output_type": "execute_result"
    }
   ],
   "source": [
    "marks"
   ]
  },
  {
   "cell_type": "code",
   "execution_count": 38,
   "id": "e105271f-5e57-4ce5-8a3e-a9b68aab8509",
   "metadata": {},
   "outputs": [
    {
     "data": {
      "text/plain": [
       "65"
      ]
     },
     "execution_count": 38,
     "metadata": {},
     "output_type": "execute_result"
    }
   ],
   "source": [
    "marks.setdefault('x', 65)"
   ]
  },
  {
   "cell_type": "code",
   "execution_count": 39,
   "id": "2ab1b01a-2a68-4e7e-b347-84dc4a437014",
   "metadata": {},
   "outputs": [
    {
     "data": {
      "text/plain": [
       "{'mohit': 54, 'samir': 56, 'mohan': 60, 'x': 65}"
      ]
     },
     "execution_count": 39,
     "metadata": {},
     "output_type": "execute_result"
    }
   ],
   "source": [
    "marks"
   ]
  },
  {
   "cell_type": "code",
   "execution_count": null,
   "id": "80941041-2f35-431b-95e0-925d3d445016",
   "metadata": {},
   "outputs": [],
   "source": []
  },
  {
   "cell_type": "markdown",
   "id": "f62a02ed-490c-4cb5-a0df-2f8a44a01f4a",
   "metadata": {},
   "source": [
    "# VALUE FUNC\n",
    "## The value function returns a view object.The view object contains the value of the dictinary,as a list."
   ]
  },
  {
   "cell_type": "code",
   "execution_count": 40,
   "id": "73e23b3e-7693-4a15-b430-fb2ebbc4199d",
   "metadata": {},
   "outputs": [],
   "source": [
    "dict1 = {'sagar':90,'vishal':85,'janvi':69}"
   ]
  },
  {
   "cell_type": "code",
   "execution_count": 41,
   "id": "7653cbce-bb44-48f7-9f4a-3fd31008bbad",
   "metadata": {},
   "outputs": [
    {
     "data": {
      "text/plain": [
       "{'sagar': 90, 'vishal': 85, 'janvi': 69}"
      ]
     },
     "execution_count": 41,
     "metadata": {},
     "output_type": "execute_result"
    }
   ],
   "source": [
    "dict1"
   ]
  },
  {
   "cell_type": "code",
   "execution_count": 42,
   "id": "f1d27205-13f6-441b-ab39-53b22efabedd",
   "metadata": {},
   "outputs": [
    {
     "data": {
      "text/plain": [
       "dict_values([90, 85, 69])"
      ]
     },
     "execution_count": 42,
     "metadata": {},
     "output_type": "execute_result"
    }
   ],
   "source": [
    "dict1.values()"
   ]
  },
  {
   "cell_type": "code",
   "execution_count": null,
   "id": "6aaf6a2a-c4f4-47d2-acc5-4aea34f834ba",
   "metadata": {},
   "outputs": [],
   "source": []
  }
 ],
 "metadata": {
  "kernelspec": {
   "display_name": "Python 3 (ipykernel)",
   "language": "python",
   "name": "python3"
  },
  "language_info": {
   "codemirror_mode": {
    "name": "ipython",
    "version": 3
   },
   "file_extension": ".py",
   "mimetype": "text/x-python",
   "name": "python",
   "nbconvert_exporter": "python",
   "pygments_lexer": "ipython3",
   "version": "3.11.7"
  }
 },
 "nbformat": 4,
 "nbformat_minor": 5
}
