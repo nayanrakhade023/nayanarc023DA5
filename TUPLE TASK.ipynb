{
 "cells": [
  {
   "cell_type": "markdown",
   "id": "8be3cc78-3135-4771-a6a3-17240246018a",
   "metadata": {},
   "source": [
    "# TUPLE \n",
    "* CREATE TUPLE"
   ]
  },
  {
   "cell_type": "code",
   "execution_count": 1,
   "id": "bc9db9b9-0ffc-4369-89cc-25f395f5ef1d",
   "metadata": {},
   "outputs": [],
   "source": [
    "T1 = ('t1','t2','t3','t4')"
   ]
  },
  {
   "cell_type": "code",
   "execution_count": 2,
   "id": "954c8531-320a-443a-94d3-4396e0025d64",
   "metadata": {},
   "outputs": [
    {
     "data": {
      "text/plain": [
       "('t1', 't2', 't3', 't4')"
      ]
     },
     "execution_count": 2,
     "metadata": {},
     "output_type": "execute_result"
    }
   ],
   "source": [
    "T1"
   ]
  },
  {
   "cell_type": "code",
   "execution_count": null,
   "id": "5da026e4-21c4-4b02-92bb-4c0fa50aa3fa",
   "metadata": {},
   "outputs": [],
   "source": []
  },
  {
   "cell_type": "markdown",
   "id": "3307f00c-7161-4ea4-8790-9c624f21e604",
   "metadata": {},
   "source": [
    "# LEN FUNC\n",
    "## lenght function gives the numbers of elements in tuple"
   ]
  },
  {
   "cell_type": "code",
   "execution_count": 3,
   "id": "d6e84900-d9de-4480-85c0-a8b9b06f63f3",
   "metadata": {},
   "outputs": [],
   "source": [
    "l1 = ('lion','tiger','deer','fox','elephant')"
   ]
  },
  {
   "cell_type": "code",
   "execution_count": 4,
   "id": "b402ce30-7505-4924-ba64-59f7785afd09",
   "metadata": {},
   "outputs": [
    {
     "data": {
      "text/plain": [
       "('lion', 'tiger', 'deer', 'fox', 'elephant')"
      ]
     },
     "execution_count": 4,
     "metadata": {},
     "output_type": "execute_result"
    }
   ],
   "source": [
    "l1"
   ]
  },
  {
   "cell_type": "code",
   "execution_count": 5,
   "id": "1e868fe9-cb87-4e9e-8fe8-ad6b6bc48fdd",
   "metadata": {},
   "outputs": [],
   "source": [
    "l1 = len(l1)"
   ]
  },
  {
   "cell_type": "code",
   "execution_count": 6,
   "id": "d9e5cb4f-5651-471d-9d00-c210c5cf637b",
   "metadata": {},
   "outputs": [
    {
     "data": {
      "text/plain": [
       "5"
      ]
     },
     "execution_count": 6,
     "metadata": {},
     "output_type": "execute_result"
    }
   ],
   "source": [
    "l1"
   ]
  },
  {
   "cell_type": "code",
   "execution_count": null,
   "id": "fe2c28f5-f65e-477c-91b7-eff623d60229",
   "metadata": {},
   "outputs": [],
   "source": []
  },
  {
   "cell_type": "markdown",
   "id": "6195763f-dd4c-48c4-8177-8e7e4c5d3ce0",
   "metadata": {},
   "source": [
    "# INDEX FUNC\n",
    "## index function helps to find the index of the elements in the tuple"
   ]
  },
  {
   "cell_type": "code",
   "execution_count": 12,
   "id": "5f59ef08-c63d-4bbf-8c3b-cc0b1658f4ba",
   "metadata": {},
   "outputs": [],
   "source": [
    "a1 = ('a1','a2','a3','a4','a5','a6')"
   ]
  },
  {
   "cell_type": "code",
   "execution_count": 8,
   "id": "b7743161-8902-433b-ad9a-d282ae6a28ea",
   "metadata": {},
   "outputs": [
    {
     "data": {
      "text/plain": [
       "('a1', 'a2', 'a3', 'a4', 'a5', 'a6')"
      ]
     },
     "execution_count": 8,
     "metadata": {},
     "output_type": "execute_result"
    }
   ],
   "source": [
    "a1"
   ]
  },
  {
   "cell_type": "code",
   "execution_count": 9,
   "id": "077d8eba-5017-408a-a013-0083d0322a73",
   "metadata": {},
   "outputs": [],
   "source": [
    "a1 = a1.index('a4')"
   ]
  },
  {
   "cell_type": "code",
   "execution_count": 10,
   "id": "3948534a-1974-427b-954a-1dda19022563",
   "metadata": {},
   "outputs": [
    {
     "data": {
      "text/plain": [
       "3"
      ]
     },
     "execution_count": 10,
     "metadata": {},
     "output_type": "execute_result"
    }
   ],
   "source": [
    "a1"
   ]
  },
  {
   "cell_type": "code",
   "execution_count": 13,
   "id": "6b68e829-0e6b-4b2d-928b-23e0ff0aaf24",
   "metadata": {},
   "outputs": [],
   "source": [
    "a1 = a1.index('a6')"
   ]
  },
  {
   "cell_type": "code",
   "execution_count": 14,
   "id": "e5526c77-8966-461c-a764-401434555576",
   "metadata": {},
   "outputs": [
    {
     "data": {
      "text/plain": [
       "5"
      ]
     },
     "execution_count": 14,
     "metadata": {},
     "output_type": "execute_result"
    }
   ],
   "source": [
    "a1"
   ]
  },
  {
   "cell_type": "code",
   "execution_count": null,
   "id": "3460da48-4bd5-4789-abe2-d9967af76df0",
   "metadata": {},
   "outputs": [],
   "source": []
  },
  {
   "cell_type": "markdown",
   "id": "ddb84660-3e65-4bc8-9107-9f51d6aeacd0",
   "metadata": {},
   "source": [
    "# COUNT FUNC\n",
    "## count function in tuple is use to get the number of times the single element is present in the tuple"
   ]
  },
  {
   "cell_type": "code",
   "execution_count": 18,
   "id": "50fbce4e-b84e-4101-a554-bc7bf8461aa6",
   "metadata": {},
   "outputs": [],
   "source": [
    "p1 = ('car','bikes','truck','auto','bicycle','car')"
   ]
  },
  {
   "cell_type": "code",
   "execution_count": 19,
   "id": "b1c1cb3c-df62-4f62-adc9-016dabbbcae1",
   "metadata": {},
   "outputs": [
    {
     "data": {
      "text/plain": [
       "('car', 'bikes', 'truck', 'auto', 'bicycle', 'car')"
      ]
     },
     "execution_count": 19,
     "metadata": {},
     "output_type": "execute_result"
    }
   ],
   "source": [
    "p1"
   ]
  },
  {
   "cell_type": "code",
   "execution_count": 23,
   "id": "e5d5f817-e945-4a19-a8a3-632b3239dc02",
   "metadata": {},
   "outputs": [
    {
     "data": {
      "text/plain": [
       "1"
      ]
     },
     "execution_count": 23,
     "metadata": {},
     "output_type": "execute_result"
    }
   ],
   "source": [
    "p1.count('bikes')"
   ]
  },
  {
   "cell_type": "code",
   "execution_count": 24,
   "id": "7d53a5b0-2e27-4154-9b10-8fb5c5cf670a",
   "metadata": {},
   "outputs": [
    {
     "data": {
      "text/plain": [
       "2"
      ]
     },
     "execution_count": 24,
     "metadata": {},
     "output_type": "execute_result"
    }
   ],
   "source": [
    "p1.count('car')"
   ]
  },
  {
   "cell_type": "code",
   "execution_count": null,
   "id": "e060f24b-201c-4591-bb91-387006ea8e2b",
   "metadata": {},
   "outputs": [],
   "source": []
  },
  {
   "cell_type": "markdown",
   "id": "f98d4b34-3418-4bb2-88df-aeb2e976890a",
   "metadata": {},
   "source": [
    "# SORTED FUNC\n",
    "## this function gives the sorted form of element in the tuple"
   ]
  },
  {
   "cell_type": "code",
   "execution_count": 26,
   "id": "6e5a53c7-6281-499c-b8ad-0bd0f5431733",
   "metadata": {},
   "outputs": [],
   "source": [
    "r1 = (21,35,26,85,46,52)"
   ]
  },
  {
   "cell_type": "code",
   "execution_count": 27,
   "id": "289602b5-52f9-4370-86d8-8de95a018724",
   "metadata": {},
   "outputs": [
    {
     "data": {
      "text/plain": [
       "(21, 35, 26, 85, 46, 52)"
      ]
     },
     "execution_count": 27,
     "metadata": {},
     "output_type": "execute_result"
    }
   ],
   "source": [
    "r1"
   ]
  },
  {
   "cell_type": "code",
   "execution_count": 29,
   "id": "166a5bde-0325-4b60-a19d-b0ef53a34614",
   "metadata": {},
   "outputs": [],
   "source": [
    "r1 = sorted(r1)"
   ]
  },
  {
   "cell_type": "code",
   "execution_count": 30,
   "id": "79889beb-c6a8-497f-9e95-8d308c5736d4",
   "metadata": {},
   "outputs": [
    {
     "data": {
      "text/plain": [
       "[21, 26, 35, 46, 52, 85]"
      ]
     },
     "execution_count": 30,
     "metadata": {},
     "output_type": "execute_result"
    }
   ],
   "source": [
    "r1"
   ]
  },
  {
   "cell_type": "code",
   "execution_count": null,
   "id": "8fb2b56c-30b2-434e-93a5-d4edf847050b",
   "metadata": {},
   "outputs": [],
   "source": []
  }
 ],
 "metadata": {
  "kernelspec": {
   "display_name": "Python 3 (ipykernel)",
   "language": "python",
   "name": "python3"
  },
  "language_info": {
   "codemirror_mode": {
    "name": "ipython",
    "version": 3
   },
   "file_extension": ".py",
   "mimetype": "text/x-python",
   "name": "python",
   "nbconvert_exporter": "python",
   "pygments_lexer": "ipython3",
   "version": "3.11.7"
  }
 },
 "nbformat": 4,
 "nbformat_minor": 5
}
