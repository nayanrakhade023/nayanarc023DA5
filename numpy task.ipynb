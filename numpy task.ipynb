{
 "cells": [
  {
   "cell_type": "code",
   "execution_count": 1,
   "id": "97b64b73-6e1f-4715-ae53-db16b9f54303",
   "metadata": {},
   "outputs": [],
   "source": [
    "import numpy as np\n"
   ]
  },
  {
   "cell_type": "markdown",
   "id": "e6b05cac-b2b1-44eb-8fa5-624241e8a3a5",
   "metadata": {},
   "source": [
    "## Numpy is Numerical Python.\n",
    "## It is a library consisting of multidimensional array objects and a collection of routines for processing of array."
   ]
  },
  {
   "cell_type": "markdown",
   "id": "ab74e289-007e-4a65-96e2-3bfc800b8ab8",
   "metadata": {},
   "source": [
    "# Numpy Functions"
   ]
  },
  {
   "cell_type": "code",
   "execution_count": 2,
   "id": "6f18b5cd-f2d6-452b-afce-9054d40df09e",
   "metadata": {},
   "outputs": [
    {
     "data": {
      "text/plain": [
       "array([[1, 2, 3, 4],\n",
       "       [5, 6, 7, 8]])"
      ]
     },
     "execution_count": 2,
     "metadata": {},
     "output_type": "execute_result"
    }
   ],
   "source": [
    "array1 = np.array([[1,2,3,4],[5,6,7,8]])\n",
    "array1"
   ]
  },
  {
   "cell_type": "markdown",
   "id": "845ff5a1-59a8-4b11-b420-9f645e63f60b",
   "metadata": {},
   "source": [
    "# np.zeros"
   ]
  },
  {
   "cell_type": "code",
   "execution_count": 3,
   "id": "bbb59500-ed4a-43c1-b0f7-cc6eb85066c6",
   "metadata": {},
   "outputs": [
    {
     "data": {
      "text/plain": [
       "array([[0, 0, 0],\n",
       "       [0, 0, 0],\n",
       "       [0, 0, 0],\n",
       "       [0, 0, 0]])"
      ]
     },
     "execution_count": 3,
     "metadata": {},
     "output_type": "execute_result"
    }
   ],
   "source": [
    "array2 = np.zeros((4,3) , dtype=int)   # Default dtype = float\n",
    "array2"
   ]
  },
  {
   "cell_type": "markdown",
   "id": "20e1cc89-0368-4ec4-9fce-a34d86714f78",
   "metadata": {},
   "source": [
    "## np.ones"
   ]
  },
  {
   "cell_type": "code",
   "execution_count": 4,
   "id": "91a7b2c2-a6f3-4a9b-a069-96375ddee76b",
   "metadata": {},
   "outputs": [
    {
     "data": {
      "text/plain": [
       "array([[1, 1, 1],\n",
       "       [1, 1, 1]])"
      ]
     },
     "execution_count": 4,
     "metadata": {},
     "output_type": "execute_result"
    }
   ],
   "source": [
    "array3 = np.ones((2,3) , dtype=int)\n",
    "array3"
   ]
  },
  {
   "cell_type": "markdown",
   "id": "f29ef465-a2b1-4c3d-a3c2-99a9eb5215dc",
   "metadata": {},
   "source": [
    "## np.arange"
   ]
  },
  {
   "cell_type": "code",
   "execution_count": 5,
   "id": "1ce0251f-04b5-4e7d-bfc1-b0219596d464",
   "metadata": {},
   "outputs": [
    {
     "data": {
      "text/plain": [
       "array([ 6,  8, 10, 12, 14, 16, 18])"
      ]
     },
     "execution_count": 5,
     "metadata": {},
     "output_type": "execute_result"
    }
   ],
   "source": [
    "array4 = np.arange(6,20,2)\n",
    "array4"
   ]
  },
  {
   "cell_type": "markdown",
   "id": "c17cf1f6-d0b5-41f9-a5c0-b959f53abaa6",
   "metadata": {},
   "source": [
    "## random"
   ]
  },
  {
   "cell_type": "code",
   "execution_count": 7,
   "id": "8f9e380b-bb7c-4c04-aa4d-48b014a7b094",
   "metadata": {},
   "outputs": [
    {
     "name": "stdout",
     "output_type": "stream",
     "text": [
      "[[20  2 24 28]\n",
      " [12 28 11  6]\n",
      " [ 4 12 17  6]\n",
      " [27 26  0  7]]\n"
     ]
    }
   ],
   "source": [
    "array6 = np.random.randint(0,30,size=(4,4))\n",
    "print(array6)"
   ]
  },
  {
   "cell_type": "markdown",
   "id": "5428e519-53f6-4bd3-8dbb-83a2e53eb35f",
   "metadata": {},
   "source": [
    "## np.full"
   ]
  },
  {
   "cell_type": "code",
   "execution_count": 9,
   "id": "b8820926-cbd5-4860-9bdf-d9ecd829fdaa",
   "metadata": {},
   "outputs": [
    {
     "name": "stdout",
     "output_type": "stream",
     "text": [
      "[[[6 6]\n",
      "  [6 6]]\n",
      "\n",
      " [[6 6]\n",
      "  [6 6]]\n",
      "\n",
      " [[6 6]\n",
      "  [6 6]]]\n"
     ]
    }
   ],
   "source": [
    "array7 = np.full((3,2,2),6)\n",
    "print(array7)"
   ]
  },
  {
   "cell_type": "code",
   "execution_count": 11,
   "id": "0bbea2cb-a3d0-4881-acf5-beaeba7ad9a4",
   "metadata": {},
   "outputs": [
    {
     "data": {
      "text/plain": [
       "array([[4, 1, 1, 5],\n",
       "       [3, 5, 5, 4]])"
      ]
     },
     "execution_count": 11,
     "metadata": {},
     "output_type": "execute_result"
    }
   ],
   "source": [
    "a = np.random.randint(1,7,(2,4))\n",
    "a"
   ]
  },
  {
   "cell_type": "code",
   "execution_count": 12,
   "id": "903d52e6-27cd-4ff4-974f-d92a29d5849b",
   "metadata": {},
   "outputs": [
    {
     "data": {
      "text/plain": [
       "array([[9, 6, 6, 9],\n",
       "       [6, 6, 5, 8]])"
      ]
     },
     "execution_count": 12,
     "metadata": {},
     "output_type": "execute_result"
    }
   ],
   "source": [
    "b = np.random.randint(5,10,(2,4))\n",
    "b"
   ]
  },
  {
   "cell_type": "markdown",
   "id": "dc2678fa-c72a-4a51-8312-1d3271be6fc1",
   "metadata": {},
   "source": [
    "## divide"
   ]
  },
  {
   "cell_type": "code",
   "execution_count": 14,
   "id": "4e887272-991b-4cbd-9301-2df9abdea8de",
   "metadata": {},
   "outputs": [
    {
     "data": {
      "text/plain": [
       "21.0"
      ]
     },
     "execution_count": 14,
     "metadata": {},
     "output_type": "execute_result"
    }
   ],
   "source": [
    "divide = np.divide(105,5)\n",
    "divide"
   ]
  },
  {
   "cell_type": "markdown",
   "id": "059437c2-d4f9-4408-ba30-55611fb46c0a",
   "metadata": {},
   "source": [
    "## multiplication"
   ]
  },
  {
   "cell_type": "code",
   "execution_count": 15,
   "id": "18f875b1-c223-42db-96ba-0ccb1b9b9152",
   "metadata": {},
   "outputs": [
    {
     "data": {
      "text/plain": [
       "31600"
      ]
     },
     "execution_count": 15,
     "metadata": {},
     "output_type": "execute_result"
    }
   ],
   "source": [
    "multiply = np.multiply(158, 200)\n",
    "multiply"
   ]
  },
  {
   "cell_type": "markdown",
   "id": "07806569-1a36-4c01-b4e4-faaa30abc845",
   "metadata": {},
   "source": [
    "## Aggregation Operations"
   ]
  },
  {
   "cell_type": "code",
   "execution_count": 16,
   "id": "29aeb951-0133-4f59-b58c-93188c1f5475",
   "metadata": {},
   "outputs": [
    {
     "data": {
      "text/plain": [
       "array([[ 3, 13,  6,  6],\n",
       "       [12, 10,  7,  4]])"
      ]
     },
     "execution_count": 16,
     "metadata": {},
     "output_type": "execute_result"
    }
   ],
   "source": [
    "data = np.random.randint(1,16,(2,4))\n",
    "data"
   ]
  },
  {
   "cell_type": "markdown",
   "id": "57ac44df-6a8d-4bdc-9f9b-427043960267",
   "metadata": {},
   "source": [
    "## add"
   ]
  },
  {
   "cell_type": "code",
   "execution_count": 17,
   "id": "365d765f-d869-4a7f-884f-6872d6a7e092",
   "metadata": {},
   "outputs": [],
   "source": [
    "a = np.array([1, 2, 3])\n",
    "b = np.array([4, 5, 6])\n",
    "c = np.add(a, b)"
   ]
  },
  {
   "cell_type": "code",
   "execution_count": 18,
   "id": "fbdc9399-58b9-420d-ab9b-9d4760d9c33b",
   "metadata": {},
   "outputs": [
    {
     "data": {
      "text/plain": [
       "array([5, 7, 9])"
      ]
     },
     "execution_count": 18,
     "metadata": {},
     "output_type": "execute_result"
    }
   ],
   "source": [
    "c"
   ]
  },
  {
   "cell_type": "markdown",
   "id": "23804cd4-8bfa-4204-87fb-3903356a7710",
   "metadata": {},
   "source": [
    "## subtract"
   ]
  },
  {
   "cell_type": "code",
   "execution_count": 19,
   "id": "cfdb4f19-d788-4a14-8ebd-b274b0747ac7",
   "metadata": {},
   "outputs": [],
   "source": [
    "a = np.array([1, 2, 3])\n",
    "b = np.array([4, 5, 6])\n",
    "c = np.subtract(a, b)"
   ]
  },
  {
   "cell_type": "code",
   "execution_count": 20,
   "id": "0e94783c-fadd-41cd-b480-2978efac3c28",
   "metadata": {},
   "outputs": [
    {
     "data": {
      "text/plain": [
       "array([-3, -3, -3])"
      ]
     },
     "execution_count": 20,
     "metadata": {},
     "output_type": "execute_result"
    }
   ],
   "source": [
    "c"
   ]
  },
  {
   "cell_type": "markdown",
   "id": "f91ac79a-67f3-4972-86c7-6b1e3b045dbf",
   "metadata": {},
   "source": [
    "# Numpy array attributes"
   ]
  },
  {
   "cell_type": "markdown",
   "id": "ee953dd6-5755-4e8a-a5b4-9a2c20521b6e",
   "metadata": {},
   "source": [
    "## ndarray.shape"
   ]
  },
  {
   "cell_type": "markdown",
   "id": "cebb2c7d-2f8e-439f-a52b-8c4ef056d15a",
   "metadata": {},
   "source": [
    "* This returns a tuple consisting of array dimensions."
   ]
  },
  {
   "cell_type": "code",
   "execution_count": 21,
   "id": "b6291b18-d7db-4ab4-b63a-a9e20cf1be89",
   "metadata": {},
   "outputs": [
    {
     "name": "stdout",
     "output_type": "stream",
     "text": [
      "(2, 3)\n"
     ]
    }
   ],
   "source": [
    "array_1 = np.array([[1,2,3],[4,5,6]])\n",
    "print(array_1.shape)"
   ]
  },
  {
   "cell_type": "code",
   "execution_count": 22,
   "id": "207e05a1-fbfe-42b4-a52a-1aa7319129f1",
   "metadata": {},
   "outputs": [
    {
     "name": "stdout",
     "output_type": "stream",
     "text": [
      "(4, 2, 3)\n"
     ]
    }
   ],
   "source": [
    "array_2 = np.array([[[1,2,3],[4,5,6]],\n",
    "                       [[1,2,3],[4,5,6]],\n",
    "                       [[1,2,3],[4,5,6]],\n",
    "                       [[1,2,3],[4,5,6]]])\n",
    "print(array_2.shape)"
   ]
  },
  {
   "cell_type": "markdown",
   "id": "bf743803-9346-49f9-8e82-ed1f5027c559",
   "metadata": {},
   "source": [
    "## ndarray.ndim"
   ]
  },
  {
   "cell_type": "markdown",
   "id": "7729e680-5175-4537-b461-d33603d30c3d",
   "metadata": {},
   "source": [
    "* This returns the number of array dimensions."
   ]
  },
  {
   "cell_type": "code",
   "execution_count": 23,
   "id": "2da4e317-06ea-4268-a728-79df622c2748",
   "metadata": {},
   "outputs": [
    {
     "name": "stdout",
     "output_type": "stream",
     "text": [
      "The dimension of array_3:  2\n"
     ]
    }
   ],
   "source": [
    "array_3 = np.array([[1,2,3],[4,5,6]])\n",
    "print(f\"The dimension of array_3: \",array_3.ndim)"
   ]
  },
  {
   "cell_type": "markdown",
   "id": "492bf8d7-8c68-4f6c-bbc3-000845613a0f",
   "metadata": {},
   "source": [
    "## ndarray.size"
   ]
  },
  {
   "cell_type": "markdown",
   "id": "19fb7484-5d0c-448e-bd1b-c7e7c4314009",
   "metadata": {},
   "source": [
    "* This returns the total number of elements in the array"
   ]
  },
  {
   "cell_type": "code",
   "execution_count": 24,
   "id": "e1deab00-dc02-4186-a456-f0bfb6945bb1",
   "metadata": {},
   "outputs": [
    {
     "name": "stdout",
     "output_type": "stream",
     "text": [
      "The total number of elements in array_4 =  6\n"
     ]
    }
   ],
   "source": [
    "array_4 = np.array([[1,2,3],[4,5,6]])\n",
    "print(f\"The total number of elements in array_4 =  {array_4.size}\")"
   ]
  },
  {
   "cell_type": "markdown",
   "id": "50d7350d-fa74-493b-a3ff-fb7a33c97ccd",
   "metadata": {},
   "source": [
    "## ndarray.dtype"
   ]
  },
  {
   "cell_type": "markdown",
   "id": "5b3b2ca7-c4a8-4f91-a5f9-bebdb5c9ca73",
   "metadata": {},
   "source": [
    "* This returns the data type of the array"
   ]
  },
  {
   "cell_type": "code",
   "execution_count": 25,
   "id": "4beea242-183d-4599-9f52-a7a3db5c2a42",
   "metadata": {},
   "outputs": [
    {
     "name": "stdout",
     "output_type": "stream",
     "text": [
      "int32\n"
     ]
    }
   ],
   "source": [
    "array_5 = np.array([1,2,3,4,5])\n",
    "print(array_5.dtype)"
   ]
  },
  {
   "cell_type": "markdown",
   "id": "6ece50fd-6cf1-40ae-be31-4b03dd57c6df",
   "metadata": {},
   "source": [
    "array_6 = np.array([1,2,3,4,5,5.678,-6])\n",
    "print(array_6.dtype)"
   ]
  },
  {
   "cell_type": "markdown",
   "id": "f63165dd-7b84-44ab-a312-20115f34cd00",
   "metadata": {},
   "source": [
    "## ndarray.astype"
   ]
  },
  {
   "cell_type": "markdown",
   "id": "e745f473-9065-4a43-8212-0e17efdbb3eb",
   "metadata": {},
   "source": [
    "* This changes the data type of an array."
   ]
  },
  {
   "cell_type": "code",
   "execution_count": 27,
   "id": "9ed59414-6b5c-4c87-b5f8-d968f5a6305a",
   "metadata": {},
   "outputs": [
    {
     "name": "stdout",
     "output_type": "stream",
     "text": [
      "int32\n",
      "[2 3 4]\n",
      "float64\n",
      "[2. 3. 4.]\n"
     ]
    }
   ],
   "source": [
    "array_7 = np.array([2,3,4])\n",
    "print(array_7.dtype)\n",
    "print(array_7)\n",
    "array_7_ = array_7.astype('float64')\n",
    "print(array_7_.dtype)\n",
    "print(array_7_)"
   ]
  },
  {
   "cell_type": "markdown",
   "id": "23857ede-f9a0-4b54-bd2f-9ea0204efeaa",
   "metadata": {},
   "source": [
    "# Array Manipulation"
   ]
  },
  {
   "cell_type": "markdown",
   "id": "4316465b-e277-43c0-a15c-2f7d166f064a",
   "metadata": {},
   "source": [
    "## np.transpose(array)"
   ]
  },
  {
   "cell_type": "code",
   "execution_count": 29,
   "id": "ca26520b-b1f4-4eba-abab-851cc8e20158",
   "metadata": {},
   "outputs": [
    {
     "data": {
      "text/plain": [
       "array([[3, 4],\n",
       "       [4, 1],\n",
       "       [2, 4],\n",
       "       [3, 1],\n",
       "       [2, 2]])"
      ]
     },
     "execution_count": 29,
     "metadata": {},
     "output_type": "execute_result"
    }
   ],
   "source": [
    "array_8 = np.array(np.random.randint(1,6,(5,2)))\n",
    "array_8"
   ]
  },
  {
   "cell_type": "code",
   "execution_count": 33,
   "id": "3a5a4e87-0691-45ec-9b9f-8e5cbeda6e70",
   "metadata": {},
   "outputs": [
    {
     "data": {
      "text/plain": [
       "array([[3, 4, 2, 3, 2],\n",
       "       [4, 1, 4, 1, 2]])"
      ]
     },
     "execution_count": 33,
     "metadata": {},
     "output_type": "execute_result"
    }
   ],
   "source": [
    "transpose_arr = np.transpose(array_8)\n",
    "transpose_arr"
   ]
  },
  {
   "cell_type": "markdown",
   "id": "75f6e11c-83c0-4555-b94b-8c327fee362e",
   "metadata": {},
   "source": [
    "## np.reshape(array,shape)"
   ]
  },
  {
   "cell_type": "markdown",
   "id": "3cc92849-f0b5-4140-886f-c3518a6ae7fa",
   "metadata": {},
   "source": [
    "* To Change shape of an array"
   ]
  },
  {
   "cell_type": "code",
   "execution_count": 34,
   "id": "866cf456-36b0-4fcb-b639-5f7f6747d451",
   "metadata": {},
   "outputs": [
    {
     "data": {
      "text/plain": [
       "array([[3, 3],\n",
       "       [3, 1],\n",
       "       [1, 2],\n",
       "       [4, 1],\n",
       "       [4, 3],\n",
       "       [4, 1]])"
      ]
     },
     "execution_count": 34,
     "metadata": {},
     "output_type": "execute_result"
    }
   ],
   "source": [
    "array_9 = np.array(np.random.randint(1,6,(6,2)))\n",
    "array_9"
   ]
  },
  {
   "cell_type": "code",
   "execution_count": 35,
   "id": "dd973976-b556-4d9f-8aa7-4d9e8d79f8d8",
   "metadata": {},
   "outputs": [
    {
     "data": {
      "text/plain": [
       "array([[[3, 3],\n",
       "        [3, 1]],\n",
       "\n",
       "       [[1, 2],\n",
       "        [4, 1]],\n",
       "\n",
       "       [[4, 3],\n",
       "        [4, 1]]])"
      ]
     },
     "execution_count": 35,
     "metadata": {},
     "output_type": "execute_result"
    }
   ],
   "source": [
    "new_shape = (3,2,2)\n",
    "reshaped_arr = np.reshape(array_9,new_shape)\n",
    "reshaped_arr"
   ]
  },
  {
   "cell_type": "markdown",
   "id": "4848b3d3-e8c4-4944-9283-8367fbed4448",
   "metadata": {},
   "source": [
    "## flatten"
   ]
  },
  {
   "cell_type": "code",
   "execution_count": 36,
   "id": "cb438959-45b1-4ea5-9eeb-3fd9ca0af809",
   "metadata": {},
   "outputs": [
    {
     "data": {
      "text/plain": [
       "array([[5, 2],\n",
       "       [1, 2],\n",
       "       [3, 1],\n",
       "       [5, 1],\n",
       "       [4, 1],\n",
       "       [3, 1]])"
      ]
     },
     "execution_count": 36,
     "metadata": {},
     "output_type": "execute_result"
    }
   ],
   "source": [
    "array_10 = np.array(np.random.randint(1,6,(6,2)))\n",
    "array_10"
   ]
  },
  {
   "cell_type": "code",
   "execution_count": 37,
   "id": "84e869bf-a934-4d20-99de-e56a08ea69db",
   "metadata": {},
   "outputs": [
    {
     "data": {
      "text/plain": [
       "array([5, 2, 1, 2, 3, 1, 5, 1, 4, 1, 3, 1])"
      ]
     },
     "execution_count": 37,
     "metadata": {},
     "output_type": "execute_result"
    }
   ],
   "source": [
    "array_10.flatten()"
   ]
  },
  {
   "cell_type": "code",
   "execution_count": null,
   "id": "81b21750-8a03-4938-b021-6e6c0e582b7e",
   "metadata": {},
   "outputs": [],
   "source": []
  }
 ],
 "metadata": {
  "kernelspec": {
   "display_name": "Python 3 (ipykernel)",
   "language": "python",
   "name": "python3"
  },
  "language_info": {
   "codemirror_mode": {
    "name": "ipython",
    "version": 3
   },
   "file_extension": ".py",
   "mimetype": "text/x-python",
   "name": "python",
   "nbconvert_exporter": "python",
   "pygments_lexer": "ipython3",
   "version": "3.11.7"
  }
 },
 "nbformat": 4,
 "nbformat_minor": 5
}
